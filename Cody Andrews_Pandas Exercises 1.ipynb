{
 "cells": [
  {
   "cell_type": "markdown",
   "metadata": {},
   "source": [
    "<B>Complete the following exercises. Each question is a single codeblock with the question at the top as a comment.</b>"
   ]
  },
  {
   "cell_type": "markdown",
   "metadata": {},
   "source": [
    "You may find the following resources helpful:\n",
    "    \n",
    "<a href=\"http://pandas.pydata.org/pandas-docs/stable/10min.html\">10 Minutes to Pandas</a><BR>\n",
    "<a href=\"https://www.youtube.com/watch?v=w26x-z-BdWQ\">Pandas Video Tutorial by Wes McKinney(!)</a><BR>\n",
    "<a href=\"https://github.com/guipsamora/pandas_exercises\">Pandas Exercises</a><BR>\n",
    "<a href=\"https://github.com/lemonbalm/pandas-exercises\">More Pandas Exercises</a><BR>"
   ]
  },
  {
   "cell_type": "markdown",
   "metadata": {},
   "source": [
    "* (1) Import numpy as np, matplotlib.pyplot as plt, and pandas as pd. Set matplotlib to inline display.\n",
    "* (2) Read the Fisher Iris Data in as a variable called df.\n",
    "* (3) Display the first five lines of df using head.\n",
    "* (4-7) - Plot a histogram of each of the four variables (leaf/sepal length/width).  Adjust the number of bins to produce a resolution you find instructive/visually satisfying.  Use xlabel and ylabel to label the axes.\n",
    "* (8) - Save this figure use savefig.\n",
    "* (9) Using groupby, group the data by species\n",
    "* (10) Using the groups, create a bar graph of the mean sepal length by species.  Label the axes.\n",
    "* (11) Use subplots to make a 2x2 pane figure, with each pane a scatterplot of your choosing.  Make sure axes are labeled!\n",
    "* (12) Use tail to print out the last 10 rows of df.\n",
    "* (13) Use a combination of np.sum() and a selector (e.g., (df['x'] > 3), count how many rows have a petal length greater than 40.\n",
    "* (14) How many have a sepal width below the median sepal width?\n",
    "* (15) Use groups and np.mean to report the mean values for each variable.\n",
    "* (16) Calculate a new variable based on existing variables, and create a histogram of its distribution.\n",
    "* (17) Export the data with the new calculated variable as an Excel file.  Open it in Excel, and comment on its appearance.  Look at the documentation of to_excel and figure out how to make it so the index values (line numbers) don't get exported.\n",
    "* (18-25) Download the prepared election data (https://github.com/thomaspingel/geodata/blob/master/election/state_election_data_1976-2016.csv), load it as a new dataframe, and use some of the commands above to explore the dataset."
   ]
  },
  {
   "cell_type": "code",
   "execution_count": 76,
   "metadata": {},
   "outputs": [],
   "source": [
    "#Number 1\n",
    "\n",
    "import numpy as np\n",
    "import matplotlib.pyplot as plt\n",
    "import pandas as pd \n",
    "%matplotlib inline"
   ]
  },
  {
   "cell_type": "code",
   "execution_count": 104,
   "metadata": {},
   "outputs": [
    {
     "data": {
      "text/html": [
       "<div>\n",
       "<style scoped>\n",
       "    .dataframe tbody tr th:only-of-type {\n",
       "        vertical-align: middle;\n",
       "    }\n",
       "\n",
       "    .dataframe tbody tr th {\n",
       "        vertical-align: top;\n",
       "    }\n",
       "\n",
       "    .dataframe thead th {\n",
       "        text-align: right;\n",
       "    }\n",
       "</style>\n",
       "<table border=\"1\" class=\"dataframe\">\n",
       "  <thead>\n",
       "    <tr style=\"text-align: right;\">\n",
       "      <th></th>\n",
       "      <th>species</th>\n",
       "      <th>petal_width</th>\n",
       "      <th>petal_length</th>\n",
       "      <th>sepal_width</th>\n",
       "      <th>sepal_length</th>\n",
       "    </tr>\n",
       "  </thead>\n",
       "  <tbody>\n",
       "    <tr>\n",
       "      <td>0</td>\n",
       "      <td>setosa</td>\n",
       "      <td>2</td>\n",
       "      <td>14</td>\n",
       "      <td>33</td>\n",
       "      <td>50</td>\n",
       "    </tr>\n",
       "    <tr>\n",
       "      <td>1</td>\n",
       "      <td>setosa</td>\n",
       "      <td>2</td>\n",
       "      <td>10</td>\n",
       "      <td>36</td>\n",
       "      <td>46</td>\n",
       "    </tr>\n",
       "    <tr>\n",
       "      <td>2</td>\n",
       "      <td>setosa</td>\n",
       "      <td>2</td>\n",
       "      <td>16</td>\n",
       "      <td>31</td>\n",
       "      <td>48</td>\n",
       "    </tr>\n",
       "    <tr>\n",
       "      <td>3</td>\n",
       "      <td>setosa</td>\n",
       "      <td>1</td>\n",
       "      <td>14</td>\n",
       "      <td>36</td>\n",
       "      <td>49</td>\n",
       "    </tr>\n",
       "    <tr>\n",
       "      <td>4</td>\n",
       "      <td>setosa</td>\n",
       "      <td>2</td>\n",
       "      <td>13</td>\n",
       "      <td>32</td>\n",
       "      <td>44</td>\n",
       "    </tr>\n",
       "  </tbody>\n",
       "</table>\n",
       "</div>"
      ],
      "text/plain": [
       "  species  petal_width  petal_length  sepal_width  sepal_length\n",
       "0  setosa            2            14           33            50\n",
       "1  setosa            2            10           36            46\n",
       "2  setosa            2            16           31            48\n",
       "3  setosa            1            14           36            49\n",
       "4  setosa            2            13           32            44"
      ]
     },
     "execution_count": 104,
     "metadata": {},
     "output_type": "execute_result"
    }
   ],
   "source": [
    "#Numbers 2 and 3\n",
    "\n",
    "df = pd.read_csv('fisher_iris_data.csv')\n",
    "df.head(n=5)"
   ]
  },
  {
   "cell_type": "code",
   "execution_count": 105,
   "metadata": {},
   "outputs": [
    {
     "data": {
      "image/png": "[encoded data removed]",
      "text/plain": [
       "<Figure size 432x288 with 1 Axes>"
      ]
     },
     "metadata": {
      "needs_background": "light"
     },
     "output_type": "display_data"
    }
   ],
   "source": [
    "#Numbers 4 and 8\n",
    "\n",
    "a = plt.hist(df.petal_length,bins=20)\n",
    "_ = plt.xlabel('Petal Length')\n",
    "__ = plt.ylabel('Frequency')\n",
    "___ = plt.title('Petal Length Histogram')\n",
    "plt.savefig('petal_length_hist',dpi=300)"
   ]
  },
  {
   "cell_type": "code",
   "execution_count": 106,
   "metadata": {},
   "outputs": [
    {
     "data": {
      "image/png": "[encoded data removed]",
      "text/plain": [
       "<Figure size 432x288 with 1 Axes>"
      ]
     },
     "metadata": {
      "needs_background": "light"
     },
     "output_type": "display_data"
    }
   ],
   "source": [
    "#Number 5\n",
    "\n",
    "b = plt.hist(df.petal_width,bins=20)\n",
    "_ = plt.xlabel('Petal Width')\n",
    "__ = plt.ylabel('Frequency')\n",
    "___ = plt.title('Petal Width Histogram')"
   ]
  },
  {
   "cell_type": "code",
   "execution_count": 107,
   "metadata": {},
   "outputs": [
    {
     "data": {
      "image/png": "[encoded data removed]",
      "text/plain": [
       "<Figure size 432x288 with 1 Axes>"
      ]
     },
     "metadata": {
      "needs_background": "light"
     },
     "output_type": "display_data"
    }
   ],
   "source": [
    "#Number 6\n",
    "\n",
    "c = plt.hist(df.sepal_length,bins=20)\n",
    "_ = plt.xlabel('Sepal Length')\n",
    "__ = plt.ylabel('Frequency')\n",
    "___ = plt.title('Sepal Length Histogram')"
   ]
  },
  {
   "cell_type": "code",
   "execution_count": 108,
   "metadata": {},
   "outputs": [
    {
     "data": {
      "image/png": "[encoded data removed]",
      "text/plain": [
       "<Figure size 432x288 with 1 Axes>"
      ]
     },
     "metadata": {
      "needs_background": "light"
     },
     "output_type": "display_data"
    }
   ],
   "source": [
    "#Number 7\n",
    "\n",
    "d = plt.hist(df.sepal_length,bins=20)\n",
    "_ = plt.xlabel('Sepal Width')\n",
    "__ = plt.ylabel('Frequency')\n",
    "___ = plt.title('Sepal Width Histogram')"
   ]
  },
  {
   "cell_type": "code",
   "execution_count": 109,
   "metadata": {},
   "outputs": [
    {
     "data": {
      "image/png": "[encoded data removed]",
      "text/plain": [
       "<Figure size 432x288 with 1 Axes>"
      ]
     },
     "metadata": {
      "needs_background": "light"
     },
     "output_type": "display_data"
    }
   ],
   "source": [
    "#Numbers 9 and 10\n",
    "\n",
    "groups = df.groupby(by='species')\n",
    "groups.mean()\n",
    "length = [50.10,59.36,65.88]\n",
    "bars = ('Setosa','Versicolor','Virginica')\n",
    "y_pos = np.arange(len(bars))\n",
    "_ = plt.bar(y_pos,length)\n",
    "_ = plt.xticks(y_pos,bars)\n",
    "_ = plt.xlabel('Species')\n",
    "_ = plt.ylabel('Sepal Length')\n",
    "_ = plt.title('Mean Sepal Length')"
   ]
  },
  {
   "cell_type": "code",
   "execution_count": 110,
   "metadata": {},
   "outputs": [
    {
     "data": {
      "image/png": "[encoded data removed]",
      "text/plain": [
       "<Figure size 432x288 with 4 Axes>"
      ]
     },
     "metadata": {
      "needs_background": "light"
     },
     "output_type": "display_data"
    }
   ],
   "source": [
    "#Number 11\n",
    "plt.subplot(2,2,1)\n",
    "_ = plt.plot(df.sepal_length,df.sepal_width,'.')\n",
    "plt.subplot(2,2,2)\n",
    "_ = plt.plot(df.petal_length,df.petal_width,'.')\n",
    "plt.subplot(2,2,3)\n",
    "_ = plt.plot(df.sepal_width,df.sepal_length,'.')\n",
    "plt.subplot(2,2,4)\n",
    "_ = plt.plot(df.petal_width,df.petal_length,'.')"
   ]
  },
  {
   "cell_type": "code",
   "execution_count": 57,
   "metadata": {},
   "outputs": [
    {
     "data": {
      "text/html": [
       "<div>\n",
       "<style scoped>\n",
       "    .dataframe tbody tr th:only-of-type {\n",
       "        vertical-align: middle;\n",
       "    }\n",
       "\n",
       "    .dataframe tbody tr th {\n",
       "        vertical-align: top;\n",
       "    }\n",
       "\n",
       "    .dataframe thead th {\n",
       "        text-align: right;\n",
       "    }\n",
       "</style>\n",
       "<table border=\"1\" class=\"dataframe\">\n",
       "  <thead>\n",
       "    <tr style=\"text-align: right;\">\n",
       "      <th></th>\n",
       "      <th>species</th>\n",
       "      <th>petal_width</th>\n",
       "      <th>petal_length</th>\n",
       "      <th>sepal_width</th>\n",
       "      <th>sepal_length</th>\n",
       "    </tr>\n",
       "  </thead>\n",
       "  <tbody>\n",
       "    <tr>\n",
       "      <td>138</td>\n",
       "      <td>virginica</td>\n",
       "      <td>18</td>\n",
       "      <td>48</td>\n",
       "      <td>28</td>\n",
       "      <td>62</td>\n",
       "    </tr>\n",
       "    <tr>\n",
       "      <td>139</td>\n",
       "      <td>virginica</td>\n",
       "      <td>24</td>\n",
       "      <td>56</td>\n",
       "      <td>34</td>\n",
       "      <td>63</td>\n",
       "    </tr>\n",
       "    <tr>\n",
       "      <td>140</td>\n",
       "      <td>virginica</td>\n",
       "      <td>16</td>\n",
       "      <td>58</td>\n",
       "      <td>30</td>\n",
       "      <td>72</td>\n",
       "    </tr>\n",
       "    <tr>\n",
       "      <td>141</td>\n",
       "      <td>virginica</td>\n",
       "      <td>21</td>\n",
       "      <td>59</td>\n",
       "      <td>30</td>\n",
       "      <td>71</td>\n",
       "    </tr>\n",
       "    <tr>\n",
       "      <td>142</td>\n",
       "      <td>virginica</td>\n",
       "      <td>18</td>\n",
       "      <td>56</td>\n",
       "      <td>29</td>\n",
       "      <td>63</td>\n",
       "    </tr>\n",
       "    <tr>\n",
       "      <td>143</td>\n",
       "      <td>virginica</td>\n",
       "      <td>23</td>\n",
       "      <td>69</td>\n",
       "      <td>26</td>\n",
       "      <td>77</td>\n",
       "    </tr>\n",
       "    <tr>\n",
       "      <td>144</td>\n",
       "      <td>virginica</td>\n",
       "      <td>19</td>\n",
       "      <td>61</td>\n",
       "      <td>28</td>\n",
       "      <td>74</td>\n",
       "    </tr>\n",
       "    <tr>\n",
       "      <td>145</td>\n",
       "      <td>virginica</td>\n",
       "      <td>18</td>\n",
       "      <td>63</td>\n",
       "      <td>29</td>\n",
       "      <td>73</td>\n",
       "    </tr>\n",
       "    <tr>\n",
       "      <td>146</td>\n",
       "      <td>virginica</td>\n",
       "      <td>22</td>\n",
       "      <td>58</td>\n",
       "      <td>30</td>\n",
       "      <td>65</td>\n",
       "    </tr>\n",
       "    <tr>\n",
       "      <td>147</td>\n",
       "      <td>virginica</td>\n",
       "      <td>19</td>\n",
       "      <td>53</td>\n",
       "      <td>27</td>\n",
       "      <td>64</td>\n",
       "    </tr>\n",
       "    <tr>\n",
       "      <td>148</td>\n",
       "      <td>virginica</td>\n",
       "      <td>20</td>\n",
       "      <td>50</td>\n",
       "      <td>25</td>\n",
       "      <td>57</td>\n",
       "    </tr>\n",
       "    <tr>\n",
       "      <td>149</td>\n",
       "      <td>virginica</td>\n",
       "      <td>24</td>\n",
       "      <td>51</td>\n",
       "      <td>28</td>\n",
       "      <td>58</td>\n",
       "    </tr>\n",
       "  </tbody>\n",
       "</table>\n",
       "</div>"
      ],
      "text/plain": [
       "       species  petal_width  petal_length  sepal_width  sepal_length\n",
       "138  virginica           18            48           28            62\n",
       "139  virginica           24            56           34            63\n",
       "140  virginica           16            58           30            72\n",
       "141  virginica           21            59           30            71\n",
       "142  virginica           18            56           29            63\n",
       "143  virginica           23            69           26            77\n",
       "144  virginica           19            61           28            74\n",
       "145  virginica           18            63           29            73\n",
       "146  virginica           22            58           30            65\n",
       "147  virginica           19            53           27            64\n",
       "148  virginica           20            50           25            57\n",
       "149  virginica           24            51           28            58"
      ]
     },
     "execution_count": 57,
     "metadata": {},
     "output_type": "execute_result"
    }
   ],
   "source": [
    "#Number 12\n",
    "df.tail(12)"
   ]
  },
  {
   "cell_type": "code",
   "execution_count": 58,
   "metadata": {},
   "outputs": [
    {
     "data": {
      "text/plain": [
       "85"
      ]
     },
     "execution_count": 58,
     "metadata": {},
     "output_type": "execute_result"
    }
   ],
   "source": [
    "#Number 13\n",
    "petals = df.petal_length>40\n",
    "np.sum(petals)"
   ]
  },
  {
   "cell_type": "code",
   "execution_count": 59,
   "metadata": {},
   "outputs": [
    {
     "data": {
      "text/plain": [
       "57"
      ]
     },
     "execution_count": 59,
     "metadata": {},
     "output_type": "execute_result"
    }
   ],
   "source": [
    "#Number 14\n",
    "median = np.median(df.sepal_width)\n",
    "np.count_nonzero(df.sepal_width<median)"
   ]
  },
  {
   "cell_type": "code",
   "execution_count": 62,
   "metadata": {},
   "outputs": [
    {
     "data": {
      "text/html": [
       "<div>\n",
       "<style scoped>\n",
       "    .dataframe tbody tr th:only-of-type {\n",
       "        vertical-align: middle;\n",
       "    }\n",
       "\n",
       "    .dataframe tbody tr th {\n",
       "        vertical-align: top;\n",
       "    }\n",
       "\n",
       "    .dataframe thead th {\n",
       "        text-align: right;\n",
       "    }\n",
       "</style>\n",
       "<table border=\"1\" class=\"dataframe\">\n",
       "  <thead>\n",
       "    <tr style=\"text-align: right;\">\n",
       "      <th></th>\n",
       "      <th>petal_width</th>\n",
       "      <th>petal_length</th>\n",
       "      <th>sepal_width</th>\n",
       "      <th>sepal_length</th>\n",
       "    </tr>\n",
       "    <tr>\n",
       "      <th>species</th>\n",
       "      <th></th>\n",
       "      <th></th>\n",
       "      <th></th>\n",
       "      <th></th>\n",
       "    </tr>\n",
       "  </thead>\n",
       "  <tbody>\n",
       "    <tr>\n",
       "      <td>setosa</td>\n",
       "      <td>2.46</td>\n",
       "      <td>14.62</td>\n",
       "      <td>34.28</td>\n",
       "      <td>50.10</td>\n",
       "    </tr>\n",
       "    <tr>\n",
       "      <td>versicolor</td>\n",
       "      <td>13.26</td>\n",
       "      <td>43.22</td>\n",
       "      <td>27.64</td>\n",
       "      <td>59.36</td>\n",
       "    </tr>\n",
       "    <tr>\n",
       "      <td>virginica</td>\n",
       "      <td>20.06</td>\n",
       "      <td>55.52</td>\n",
       "      <td>29.74</td>\n",
       "      <td>65.88</td>\n",
       "    </tr>\n",
       "  </tbody>\n",
       "</table>\n",
       "</div>"
      ],
      "text/plain": [
       "            petal_width  petal_length  sepal_width  sepal_length\n",
       "species                                                         \n",
       "setosa             2.46         14.62        34.28         50.10\n",
       "versicolor        13.26         43.22        27.64         59.36\n",
       "virginica         20.06         55.52        29.74         65.88"
      ]
     },
     "execution_count": 62,
     "metadata": {},
     "output_type": "execute_result"
    }
   ],
   "source": [
    "#Number 15\n",
    "meangroups = df.groupby(by='species')\n",
    "meangroups.mean()"
   ]
  },
  {
   "cell_type": "code",
   "execution_count": 89,
   "metadata": {
    "scrolled": true
   },
   "outputs": [
    {
     "data": {
      "image/png": "[encoded data removed]",
      "text/plain": [
       "<Figure size 432x288 with 1 Axes>"
      ]
     },
     "metadata": {
      "needs_background": "light"
     },
     "output_type": "display_data"
    }
   ],
   "source": [
    "#Number 16\n",
    "df['petal_thickness'] = df.petal_length / df.petal_width\n",
    "_ = plt.hist(df['petal_thickness'])\n",
    "_ = plt.xlabel('Petal Thickness')\n",
    "_ = plt.ylabel('Frequency')\n",
    "_ = plt.title('Frequency of Petal Thickness')"
   ]
  },
  {
   "cell_type": "code",
   "execution_count": 113,
   "metadata": {},
   "outputs": [],
   "source": [
    "#Number 17\n",
    "df.to_excel('jupyternotebook.xlsx', engine='xlsxwriter', index = False)  \n",
    "#The data seems raw in appearance but looks normal for excel. It is very similar to how it appears when called with df.head()\n"
   ]
  },
  {
   "cell_type": "code",
   "execution_count": 73,
   "metadata": {},
   "outputs": [
    {
     "data": {
      "text/html": [
       "<div>\n",
       "<style scoped>\n",
       "    .dataframe tbody tr th:only-of-type {\n",
       "        vertical-align: middle;\n",
       "    }\n",
       "\n",
       "    .dataframe tbody tr th {\n",
       "        vertical-align: top;\n",
       "    }\n",
       "\n",
       "    .dataframe thead th {\n",
       "        text-align: right;\n",
       "    }\n",
       "</style>\n",
       "<table border=\"1\" class=\"dataframe\">\n",
       "  <thead>\n",
       "    <tr style=\"text-align: right;\">\n",
       "      <th></th>\n",
       "      <th>state</th>\n",
       "      <th>state_po</th>\n",
       "      <th>state_fips</th>\n",
       "      <th>gop_1976_votes</th>\n",
       "      <th>dem_1976_votes</th>\n",
       "      <th>totalvotes_1976</th>\n",
       "      <th>gop_1976_prc</th>\n",
       "      <th>dem_1976_prc</th>\n",
       "      <th>gop_minus_dem_prc_1976</th>\n",
       "      <th>gop_1980_votes</th>\n",
       "      <th>...</th>\n",
       "      <th>totalvotes_2012</th>\n",
       "      <th>gop_2012_prc</th>\n",
       "      <th>dem_2012_prc</th>\n",
       "      <th>gop_minus_dem_prc_2012</th>\n",
       "      <th>gop_2016_votes</th>\n",
       "      <th>dem_2016_votes</th>\n",
       "      <th>totalvotes_2016</th>\n",
       "      <th>gop_2016_prc</th>\n",
       "      <th>dem_2016_prc</th>\n",
       "      <th>gop_minus_dem_prc_2016</th>\n",
       "    </tr>\n",
       "  </thead>\n",
       "  <tbody>\n",
       "    <tr>\n",
       "      <td>0</td>\n",
       "      <td>Alabama</td>\n",
       "      <td>AL</td>\n",
       "      <td>1</td>\n",
       "      <td>504070</td>\n",
       "      <td>659170</td>\n",
       "      <td>1182850</td>\n",
       "      <td>42.61</td>\n",
       "      <td>55.73</td>\n",
       "      <td>-13.12</td>\n",
       "      <td>654192</td>\n",
       "      <td>...</td>\n",
       "      <td>2074338</td>\n",
       "      <td>60.55</td>\n",
       "      <td>38.36</td>\n",
       "      <td>22.19</td>\n",
       "      <td>1318255</td>\n",
       "      <td>729547</td>\n",
       "      <td>2123372</td>\n",
       "      <td>62.08</td>\n",
       "      <td>34.36</td>\n",
       "      <td>27.72</td>\n",
       "    </tr>\n",
       "    <tr>\n",
       "      <td>1</td>\n",
       "      <td>Alaska</td>\n",
       "      <td>AK</td>\n",
       "      <td>2</td>\n",
       "      <td>71555</td>\n",
       "      <td>44058</td>\n",
       "      <td>123574</td>\n",
       "      <td>57.90</td>\n",
       "      <td>35.65</td>\n",
       "      <td>22.25</td>\n",
       "      <td>86112</td>\n",
       "      <td>...</td>\n",
       "      <td>300495</td>\n",
       "      <td>54.80</td>\n",
       "      <td>40.81</td>\n",
       "      <td>13.99</td>\n",
       "      <td>163387</td>\n",
       "      <td>116454</td>\n",
       "      <td>318608</td>\n",
       "      <td>51.28</td>\n",
       "      <td>36.55</td>\n",
       "      <td>14.73</td>\n",
       "    </tr>\n",
       "    <tr>\n",
       "      <td>2</td>\n",
       "      <td>Arizona</td>\n",
       "      <td>AZ</td>\n",
       "      <td>4</td>\n",
       "      <td>418642</td>\n",
       "      <td>295602</td>\n",
       "      <td>742719</td>\n",
       "      <td>56.37</td>\n",
       "      <td>39.80</td>\n",
       "      <td>16.57</td>\n",
       "      <td>529688</td>\n",
       "      <td>...</td>\n",
       "      <td>2299254</td>\n",
       "      <td>53.65</td>\n",
       "      <td>44.59</td>\n",
       "      <td>9.06</td>\n",
       "      <td>1252401</td>\n",
       "      <td>1161167</td>\n",
       "      <td>2573165</td>\n",
       "      <td>48.67</td>\n",
       "      <td>45.13</td>\n",
       "      <td>3.54</td>\n",
       "    </tr>\n",
       "    <tr>\n",
       "      <td>3</td>\n",
       "      <td>Arkansas</td>\n",
       "      <td>AR</td>\n",
       "      <td>5</td>\n",
       "      <td>267903</td>\n",
       "      <td>498604</td>\n",
       "      <td>767535</td>\n",
       "      <td>34.90</td>\n",
       "      <td>64.96</td>\n",
       "      <td>-30.06</td>\n",
       "      <td>403164</td>\n",
       "      <td>...</td>\n",
       "      <td>1069468</td>\n",
       "      <td>60.57</td>\n",
       "      <td>36.88</td>\n",
       "      <td>23.69</td>\n",
       "      <td>684872</td>\n",
       "      <td>380494</td>\n",
       "      <td>1130635</td>\n",
       "      <td>60.57</td>\n",
       "      <td>33.65</td>\n",
       "      <td>26.92</td>\n",
       "    </tr>\n",
       "    <tr>\n",
       "      <td>4</td>\n",
       "      <td>California</td>\n",
       "      <td>CA</td>\n",
       "      <td>6</td>\n",
       "      <td>3882244</td>\n",
       "      <td>3742284</td>\n",
       "      <td>7803770</td>\n",
       "      <td>49.75</td>\n",
       "      <td>47.95</td>\n",
       "      <td>1.80</td>\n",
       "      <td>4522994</td>\n",
       "      <td>...</td>\n",
       "      <td>13038547</td>\n",
       "      <td>37.12</td>\n",
       "      <td>60.24</td>\n",
       "      <td>-23.12</td>\n",
       "      <td>4483810</td>\n",
       "      <td>8753788</td>\n",
       "      <td>14181595</td>\n",
       "      <td>31.62</td>\n",
       "      <td>61.73</td>\n",
       "      <td>-30.11</td>\n",
       "    </tr>\n",
       "  </tbody>\n",
       "</table>\n",
       "<p>5 rows × 69 columns</p>\n",
       "</div>"
      ],
      "text/plain": [
       "        state state_po  state_fips  gop_1976_votes  dem_1976_votes  \\\n",
       "0     Alabama       AL           1          504070          659170   \n",
       "1      Alaska       AK           2           71555           44058   \n",
       "2     Arizona       AZ           4          418642          295602   \n",
       "3    Arkansas       AR           5          267903          498604   \n",
       "4  California       CA           6         3882244         3742284   \n",
       "\n",
       "   totalvotes_1976  gop_1976_prc  dem_1976_prc  gop_minus_dem_prc_1976  \\\n",
       "0          1182850         42.61         55.73                  -13.12   \n",
       "1           123574         57.90         35.65                   22.25   \n",
       "2           742719         56.37         39.80                   16.57   \n",
       "3           767535         34.90         64.96                  -30.06   \n",
       "4          7803770         49.75         47.95                    1.80   \n",
       "\n",
       "   gop_1980_votes  ...  totalvotes_2012  gop_2012_prc  dem_2012_prc  \\\n",
       "0          654192  ...          2074338         60.55         38.36   \n",
       "1           86112  ...           300495         54.80         40.81   \n",
       "2          529688  ...          2299254         53.65         44.59   \n",
       "3          403164  ...          1069468         60.57         36.88   \n",
       "4         4522994  ...         13038547         37.12         60.24   \n",
       "\n",
       "   gop_minus_dem_prc_2012  gop_2016_votes  dem_2016_votes  totalvotes_2016  \\\n",
       "0                   22.19         1318255          729547          2123372   \n",
       "1                   13.99          163387          116454           318608   \n",
       "2                    9.06         1252401         1161167          2573165   \n",
       "3                   23.69          684872          380494          1130635   \n",
       "4                  -23.12         4483810         8753788         14181595   \n",
       "\n",
       "   gop_2016_prc  dem_2016_prc  gop_minus_dem_prc_2016  \n",
       "0         62.08         34.36                   27.72  \n",
       "1         51.28         36.55                   14.73  \n",
       "2         48.67         45.13                    3.54  \n",
       "3         60.57         33.65                   26.92  \n",
       "4         31.62         61.73                  -30.11  \n",
       "\n",
       "[5 rows x 69 columns]"
      ]
     },
     "execution_count": 73,
     "metadata": {},
     "output_type": "execute_result"
    }
   ],
   "source": [
    "#Numbers 18-25\n",
    "df1 = pd.read_csv('state_election_data_1976-2016.csv')\n",
    "df1.head()"
   ]
  },
  {
   "cell_type": "code",
   "execution_count": 119,
   "metadata": {},
   "outputs": [
    {
     "data": {
      "text/html": [
       "<div>\n",
       "<style scoped>\n",
       "    .dataframe tbody tr th:only-of-type {\n",
       "        vertical-align: middle;\n",
       "    }\n",
       "\n",
       "    .dataframe tbody tr th {\n",
       "        vertical-align: top;\n",
       "    }\n",
       "\n",
       "    .dataframe thead th {\n",
       "        text-align: right;\n",
       "    }\n",
       "</style>\n",
       "<table border=\"1\" class=\"dataframe\">\n",
       "  <thead>\n",
       "    <tr style=\"text-align: right;\">\n",
       "      <th></th>\n",
       "      <th>state_fips</th>\n",
       "      <th>gop_1976_votes</th>\n",
       "      <th>dem_1976_votes</th>\n",
       "      <th>totalvotes_1976</th>\n",
       "      <th>gop_1976_prc</th>\n",
       "      <th>dem_1976_prc</th>\n",
       "      <th>gop_minus_dem_prc_1976</th>\n",
       "      <th>gop_1980_votes</th>\n",
       "      <th>dem_1980_votes</th>\n",
       "      <th>totalvotes_1980</th>\n",
       "      <th>...</th>\n",
       "      <th>totalvotes_2012</th>\n",
       "      <th>gop_2012_prc</th>\n",
       "      <th>dem_2012_prc</th>\n",
       "      <th>gop_minus_dem_prc_2012</th>\n",
       "      <th>gop_2016_votes</th>\n",
       "      <th>dem_2016_votes</th>\n",
       "      <th>totalvotes_2016</th>\n",
       "      <th>gop_2016_prc</th>\n",
       "      <th>dem_2016_prc</th>\n",
       "      <th>gop_minus_dem_prc_2016</th>\n",
       "    </tr>\n",
       "  </thead>\n",
       "  <tbody>\n",
       "    <tr>\n",
       "      <td>count</td>\n",
       "      <td>51.000000</td>\n",
       "      <td>5.100000e+01</td>\n",
       "      <td>5.100000e+01</td>\n",
       "      <td>5.100000e+01</td>\n",
       "      <td>51.000000</td>\n",
       "      <td>51.000000</td>\n",
       "      <td>51.000000</td>\n",
       "      <td>5.100000e+01</td>\n",
       "      <td>5.100000e+01</td>\n",
       "      <td>5.100000e+01</td>\n",
       "      <td>...</td>\n",
       "      <td>5.100000e+01</td>\n",
       "      <td>51.000000</td>\n",
       "      <td>51.000000</td>\n",
       "      <td>51.000000</td>\n",
       "      <td>5.100000e+01</td>\n",
       "      <td>5.100000e+01</td>\n",
       "      <td>5.100000e+01</td>\n",
       "      <td>51.000000</td>\n",
       "      <td>51.000000</td>\n",
       "      <td>51.000000</td>\n",
       "    </tr>\n",
       "    <tr>\n",
       "      <td>mean</td>\n",
       "      <td>28.960784</td>\n",
       "      <td>7.675641e+05</td>\n",
       "      <td>8.005066e+05</td>\n",
       "      <td>1.730777e+06</td>\n",
       "      <td>47.951961</td>\n",
       "      <td>49.041961</td>\n",
       "      <td>-1.090000</td>\n",
       "      <td>8.607602e+05</td>\n",
       "      <td>6.957049e+05</td>\n",
       "      <td>1.696017e+06</td>\n",
       "      <td>...</td>\n",
       "      <td>2.671702e+06</td>\n",
       "      <td>48.628235</td>\n",
       "      <td>48.366275</td>\n",
       "      <td>0.261961</td>\n",
       "      <td>1.235001e+06</td>\n",
       "      <td>1.291247e+06</td>\n",
       "      <td>3.042604e+06</td>\n",
       "      <td>47.511569</td>\n",
       "      <td>43.258039</td>\n",
       "      <td>4.253529</td>\n",
       "    </tr>\n",
       "    <tr>\n",
       "      <td>std</td>\n",
       "      <td>15.832828</td>\n",
       "      <td>8.126017e+05</td>\n",
       "      <td>8.273674e+05</td>\n",
       "      <td>2.239032e+06</td>\n",
       "      <td>8.130942</td>\n",
       "      <td>8.602756</td>\n",
       "      <td>15.196332</td>\n",
       "      <td>8.802488e+05</td>\n",
       "      <td>6.978711e+05</td>\n",
       "      <td>1.725674e+06</td>\n",
       "      <td>...</td>\n",
       "      <td>2.951471e+06</td>\n",
       "      <td>12.406483</td>\n",
       "      <td>11.856167</td>\n",
       "      <td>23.257514</td>\n",
       "      <td>1.142382e+06</td>\n",
       "      <td>1.548086e+06</td>\n",
       "      <td>3.960244e+06</td>\n",
       "      <td>13.498684</td>\n",
       "      <td>12.321450</td>\n",
       "      <td>23.226725</td>\n",
       "    </tr>\n",
       "    <tr>\n",
       "      <td>min</td>\n",
       "      <td>1.000000</td>\n",
       "      <td>2.787300e+04</td>\n",
       "      <td>4.405800e+04</td>\n",
       "      <td>1.235740e+05</td>\n",
       "      <td>16.510000</td>\n",
       "      <td>25.420000</td>\n",
       "      <td>-65.120000</td>\n",
       "      <td>2.331300e+04</td>\n",
       "      <td>4.184200e+04</td>\n",
       "      <td>1.584450e+05</td>\n",
       "      <td>...</td>\n",
       "      <td>2.507010e+05</td>\n",
       "      <td>7.280000</td>\n",
       "      <td>24.750000</td>\n",
       "      <td>-83.630000</td>\n",
       "      <td>1.272300e+04</td>\n",
       "      <td>5.597300e+04</td>\n",
       "      <td>2.587880e+05</td>\n",
       "      <td>4.070000</td>\n",
       "      <td>19.470000</td>\n",
       "      <td>-86.410000</td>\n",
       "    </tr>\n",
       "    <tr>\n",
       "      <td>25%</td>\n",
       "      <td>16.500000</td>\n",
       "      <td>2.077850e+05</td>\n",
       "      <td>1.916290e+05</td>\n",
       "      <td>4.135870e+05</td>\n",
       "      <td>45.780000</td>\n",
       "      <td>45.735000</td>\n",
       "      <td>-5.930000</td>\n",
       "      <td>2.446505e+05</td>\n",
       "      <td>1.511515e+05</td>\n",
       "      <td>4.468340e+05</td>\n",
       "      <td>...</td>\n",
       "      <td>7.178650e+05</td>\n",
       "      <td>41.020000</td>\n",
       "      <td>39.475000</td>\n",
       "      <td>-14.415000</td>\n",
       "      <td>3.774225e+05</td>\n",
       "      <td>2.975840e+05</td>\n",
       "      <td>7.580940e+05</td>\n",
       "      <td>41.140000</td>\n",
       "      <td>34.540000</td>\n",
       "      <td>-9.600000</td>\n",
       "    </tr>\n",
       "    <tr>\n",
       "      <td>50%</td>\n",
       "      <td>29.000000</td>\n",
       "      <td>5.040700e+05</td>\n",
       "      <td>5.324420e+05</td>\n",
       "      <td>1.092251e+06</td>\n",
       "      <td>48.930000</td>\n",
       "      <td>48.460000</td>\n",
       "      <td>0.840000</td>\n",
       "      <td>6.522640e+05</td>\n",
       "      <td>4.568900e+05</td>\n",
       "      <td>1.184450e+06</td>\n",
       "      <td>...</td>\n",
       "      <td>1.797212e+06</td>\n",
       "      <td>47.690000</td>\n",
       "      <td>50.010000</td>\n",
       "      <td>-2.980000</td>\n",
       "      <td>9.491360e+05</td>\n",
       "      <td>7.801540e+05</td>\n",
       "      <td>2.001336e+06</td>\n",
       "      <td>48.670000</td>\n",
       "      <td>45.130000</td>\n",
       "      <td>3.540000</td>\n",
       "    </tr>\n",
       "    <tr>\n",
       "      <td>75%</td>\n",
       "      <td>41.500000</td>\n",
       "      <td>8.819985e+05</td>\n",
       "      <td>1.006550e+06</td>\n",
       "      <td>1.951766e+06</td>\n",
       "      <td>51.870000</td>\n",
       "      <td>52.360000</td>\n",
       "      <td>5.655000</td>\n",
       "      <td>1.023620e+06</td>\n",
       "      <td>9.110685e+05</td>\n",
       "      <td>2.075870e+06</td>\n",
       "      <td>...</td>\n",
       "      <td>3.154856e+06</td>\n",
       "      <td>57.835000</td>\n",
       "      <td>54.805000</td>\n",
       "      <td>17.610000</td>\n",
       "      <td>1.575898e+06</td>\n",
       "      <td>1.810340e+06</td>\n",
       "      <td>3.626434e+06</td>\n",
       "      <td>57.440000</td>\n",
       "      <td>49.005000</td>\n",
       "      <td>20.085000</td>\n",
       "    </tr>\n",
       "    <tr>\n",
       "      <td>max</td>\n",
       "      <td>56.000000</td>\n",
       "      <td>3.882244e+06</td>\n",
       "      <td>3.742284e+06</td>\n",
       "      <td>1.333652e+07</td>\n",
       "      <td>62.430000</td>\n",
       "      <td>81.630000</td>\n",
       "      <td>28.780000</td>\n",
       "      <td>4.522994e+06</td>\n",
       "      <td>3.082943e+06</td>\n",
       "      <td>8.582938e+06</td>\n",
       "      <td>...</td>\n",
       "      <td>1.423357e+07</td>\n",
       "      <td>72.790000</td>\n",
       "      <td>90.910000</td>\n",
       "      <td>48.040000</td>\n",
       "      <td>4.685047e+06</td>\n",
       "      <td>8.753788e+06</td>\n",
       "      <td>2.340625e+07</td>\n",
       "      <td>68.630000</td>\n",
       "      <td>90.480000</td>\n",
       "      <td>45.770000</td>\n",
       "    </tr>\n",
       "  </tbody>\n",
       "</table>\n",
       "<p>8 rows × 67 columns</p>\n",
       "</div>"
      ],
      "text/plain": [
       "       state_fips  gop_1976_votes  dem_1976_votes  totalvotes_1976  \\\n",
       "count   51.000000    5.100000e+01    5.100000e+01     5.100000e+01   \n",
       "mean    28.960784    7.675641e+05    8.005066e+05     1.730777e+06   \n",
       "std     15.832828    8.126017e+05    8.273674e+05     2.239032e+06   \n",
       "min      1.000000    2.787300e+04    4.405800e+04     1.235740e+05   \n",
       "25%     16.500000    2.077850e+05    1.916290e+05     4.135870e+05   \n",
       "50%     29.000000    5.040700e+05    5.324420e+05     1.092251e+06   \n",
       "75%     41.500000    8.819985e+05    1.006550e+06     1.951766e+06   \n",
       "max     56.000000    3.882244e+06    3.742284e+06     1.333652e+07   \n",
       "\n",
       "       gop_1976_prc  dem_1976_prc  gop_minus_dem_prc_1976  gop_1980_votes  \\\n",
       "count     51.000000     51.000000               51.000000    5.100000e+01   \n",
       "mean      47.951961     49.041961               -1.090000    8.607602e+05   \n",
       "std        8.130942      8.602756               15.196332    8.802488e+05   \n",
       "min       16.510000     25.420000              -65.120000    2.331300e+04   \n",
       "25%       45.780000     45.735000               -5.930000    2.446505e+05   \n",
       "50%       48.930000     48.460000                0.840000    6.522640e+05   \n",
       "75%       51.870000     52.360000                5.655000    1.023620e+06   \n",
       "max       62.430000     81.630000               28.780000    4.522994e+06   \n",
       "\n",
       "       dem_1980_votes  totalvotes_1980  ...  totalvotes_2012  gop_2012_prc  \\\n",
       "count    5.100000e+01     5.100000e+01  ...     5.100000e+01     51.000000   \n",
       "mean     6.957049e+05     1.696017e+06  ...     2.671702e+06     48.628235   \n",
       "std      6.978711e+05     1.725674e+06  ...     2.951471e+06     12.406483   \n",
       "min      4.184200e+04     1.584450e+05  ...     2.507010e+05      7.280000   \n",
       "25%      1.511515e+05     4.468340e+05  ...     7.178650e+05     41.020000   \n",
       "50%      4.568900e+05     1.184450e+06  ...     1.797212e+06     47.690000   \n",
       "75%      9.110685e+05     2.075870e+06  ...     3.154856e+06     57.835000   \n",
       "max      3.082943e+06     8.582938e+06  ...     1.423357e+07     72.790000   \n",
       "\n",
       "       dem_2012_prc  gop_minus_dem_prc_2012  gop_2016_votes  dem_2016_votes  \\\n",
       "count     51.000000               51.000000    5.100000e+01    5.100000e+01   \n",
       "mean      48.366275                0.261961    1.235001e+06    1.291247e+06   \n",
       "std       11.856167               23.257514    1.142382e+06    1.548086e+06   \n",
       "min       24.750000              -83.630000    1.272300e+04    5.597300e+04   \n",
       "25%       39.475000              -14.415000    3.774225e+05    2.975840e+05   \n",
       "50%       50.010000               -2.980000    9.491360e+05    7.801540e+05   \n",
       "75%       54.805000               17.610000    1.575898e+06    1.810340e+06   \n",
       "max       90.910000               48.040000    4.685047e+06    8.753788e+06   \n",
       "\n",
       "       totalvotes_2016  gop_2016_prc  dem_2016_prc  gop_minus_dem_prc_2016  \n",
       "count     5.100000e+01     51.000000     51.000000               51.000000  \n",
       "mean      3.042604e+06     47.511569     43.258039                4.253529  \n",
       "std       3.960244e+06     13.498684     12.321450               23.226725  \n",
       "min       2.587880e+05      4.070000     19.470000              -86.410000  \n",
       "25%       7.580940e+05     41.140000     34.540000               -9.600000  \n",
       "50%       2.001336e+06     48.670000     45.130000                3.540000  \n",
       "75%       3.626434e+06     57.440000     49.005000               20.085000  \n",
       "max       2.340625e+07     68.630000     90.480000               45.770000  \n",
       "\n",
       "[8 rows x 67 columns]"
      ]
     },
     "execution_count": 119,
     "metadata": {},
     "output_type": "execute_result"
    }
   ],
   "source": [
    "df1.describe()"
   ]
  },
  {
   "cell_type": "code",
   "execution_count": 126,
   "metadata": {},
   "outputs": [
    {
     "data": {
      "image/png": "[encoded data removed]",
      "text/plain": [
       "<Figure size 432x288 with 1 Axes>"
      ]
     },
     "metadata": {
      "needs_background": "light"
     },
     "output_type": "display_data"
    }
   ],
   "source": [
    "d=plt.hist(df1.dem_1976_prc,bins=20)\n",
    "_ = plt.xlabel('1976 Democratic PRC')\n",
    "_ = plt.ylabel('Frequency')"
   ]
  },
  {
   "cell_type": "code",
   "execution_count": 127,
   "metadata": {},
   "outputs": [
    {
     "data": {
      "text/plain": [
       "51"
      ]
     },
     "execution_count": 127,
     "metadata": {},
     "output_type": "execute_result"
    }
   ],
   "source": [
    " votes = df1.totalvotes_1980>60000\n",
    "np.sum(votes)"
   ]
  },
  {
   "cell_type": "code",
   "execution_count": 128,
   "metadata": {},
   "outputs": [],
   "source": [
    "#Export to excel\n",
    "df1.to_excel('electiondata.xlsx', engine='xlsxwriter', index = False)  "
   ]
  },
  {
   "cell_type": "code",
   "execution_count": null,
   "metadata": {},
   "outputs": [],
   "source": []
  }
 ],
 "metadata": {
  "kernelspec": {
   "display_name": "Python 3",
   "language": "python",
   "name": "python3"
  },
  "language_info": {
   "codemirror_mode": {
    "name": "ipython",
    "version": 3
   },
   "file_extension": ".py",
   "mimetype": "text/x-python",
   "name": "python",
   "nbconvert_exporter": "python",
   "pygments_lexer": "ipython3",
   "version": "3.7.4"
  }
 },
 "nbformat": 4,
 "nbformat_minor": 2
}
